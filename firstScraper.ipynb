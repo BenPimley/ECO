{
  "nbformat": 4,
  "nbformat_minor": 0,
  "metadata": {
    "colab": {
      "name": "firstScraper.ipynb",
      "provenance": [],
      "collapsed_sections": [],
      "include_colab_link": true
    },
    "kernelspec": {
      "name": "python3",
      "display_name": "Python 3"
    },
    "language_info": {
      "name": "python"
    }
  },
  "cells": [
    {
      "cell_type": "markdown",
      "metadata": {
        "id": "view-in-github",
        "colab_type": "text"
      },
      "source": [
        "<a href=\"https://colab.research.google.com/github/BenPimley/ECO/blob/main/firstScraper.ipynb\" target=\"_parent\"><img src=\"https://colab.research.google.com/assets/colab-badge.svg\" alt=\"Open In Colab\"/></a>"
      ]
    },
    {
      "cell_type": "markdown",
      "metadata": {
        "id": "MVfixlVBK5we"
      },
      "source": [
        "**Data Science - first web scraper**\n",
        "\n",
        "Aim of the file:\n",
        "\n",
        "1.   Set up scraping tools needed.\n",
        "2.   Discuss BeautifulSoup.\n",
        "3.   Learn how to spot the HTML elements we want\n",
        "4.   Extract the text from these, using text method\n",
        "5.   Creat a simple array of our results, print it out.\n",
        "\n"
      ]
    },
    {
      "cell_type": "code",
      "metadata": {
        "id": "r-JSinApK49d"
      },
      "source": [
        "# ////////////////////////////////////////////////////////////////\n",
        "# // 1.  Import packages that we might need:\n",
        "# // Packages for data manipulation\n",
        "import numpy as np\n",
        "import pandas as pd\n",
        "# // Web scraping: \n",
        "import requests\n",
        "from bs4 import BeautifulSoup\n",
        "# // OS. Sometimes need this for finding working directory:\n",
        "import os\n",
        "# ////////////////////////////////////////////////////////////////\n",
        "# ////////////////////////////////////////////////////////////////"
      ],
      "execution_count": 2,
      "outputs": []
    },
    {
      "cell_type": "markdown",
      "metadata": {
        "id": "YH5WjG6IPVr7"
      },
      "source": [
        "Step 2 - Pick the URL we want to scrape and extract the html content"
      ]
    },
    {
      "cell_type": "code",
      "metadata": {
        "id": "Vh8EIq2_PVXs"
      },
      "source": [
        " # ////////////////////////////////////////////////////////////////\n",
        "# /// 2.  Set the URL ////////////////////////////////////////////\n",
        "# /// Notes: This could be a list of URLs\n",
        "\n",
        "URL = \"https://www.google.com/finance/quote/RR:LON\"\n",
        "URL2 = \"https://www.premierleague.com/stats/top/players/goals?se=-1\"\n",
        "URL3 = \"https://olympics.com/tokyo-2020/olympic-games/en/results/all-sports/medal-standings.htm\"\n",
        "URL4 = \"https://www.thecompleteuniversityguide.co.uk/league-tables/rankings\"\n",
        "\n",
        "\n",
        "# /// Do the html request:\n",
        "html = requests.get(URL3)\n",
        "soup = BeautifulSoup(html.content, 'html.parser')\n",
        "\n",
        "# ////////////////////////////////////////////////////////////////\n",
        "# ////////////////////////////////////////////////////////////////"
      ],
      "execution_count": 44,
      "outputs": []
    },
    {
      "cell_type": "markdown",
      "metadata": {
        "id": "f5wu9mFuSO2e"
      },
      "source": [
        "Let's see what we have:"
      ]
    },
    {
      "cell_type": "code",
      "metadata": {
        "id": "YVCVVxY3SMqu"
      },
      "source": [
        "soup"
      ],
      "execution_count": null,
      "outputs": []
    },
    {
      "cell_type": "markdown",
      "metadata": {
        "id": "o_h5XdsjQwZB"
      },
      "source": [
        "Step 3 - The ART of web scraping. Finding which bit we actually want to scrape from the page.\n",
        "\n",
        "Open the URL:  https://www.google.com/finance/quote/RR:LON\n",
        "\n",
        "Use the developer tools and \"inspect\" the page.\n",
        "\n",
        "We find that the name of the company is included in an 'h1' element.\n",
        "\n",
        "So we can tell Python to grab this:"
      ]
    },
    {
      "cell_type": "code",
      "metadata": {
        "id": "NFj2wLuCPhZk"
      },
      "source": [
        "soup_h1 = soup.find_all(\"h1\")\n",
        "#Names = soup.find_all(\"div\", class_=\"playerTag\")\n",
        "Names = soup.find_all(\"a\", class_=\"country\")\n",
        "\n",
        "# /// Now print this out:\n",
        "Names"
      ],
      "execution_count": null,
      "outputs": []
    },
    {
      "cell_type": "markdown",
      "metadata": {
        "id": "QJvJ3GFoTLHG"
      },
      "source": [
        "This is quite mess of information, we just want the text inside the h1.\n",
        "\n",
        "We can use the .text method to get hold of this."
      ]
    },
    {
      "cell_type": "code",
      "metadata": {
        "id": "oo83W4UET8zZ"
      },
      "source": [
        "# Quick aside 1\n",
        "team = ['Richard', 'Charlie', 'Juliette', 'Ben', 'Xenia']"
      ],
      "execution_count": 6,
      "outputs": []
    },
    {
      "cell_type": "code",
      "metadata": {
        "id": "ivCxMjglkwmb",
        "outputId": "1cb3140e-cd81-4104-fc4c-aaefb6461ec3",
        "colab": {
          "base_uri": "https://localhost:8080/"
        }
      },
      "source": [
        "Names[0]\n"
      ],
      "execution_count": 27,
      "outputs": [
        {
          "output_type": "execute_result",
          "data": {
            "text/plain": [
              "<a class=\"playerName\" href=\"/players/89/Alan-Shearer/overview\">\n",
              "<strong>Alan Shearer</strong></a>"
            ]
          },
          "metadata": {
            "tags": []
          },
          "execution_count": 27
        }
      ]
    },
    {
      "cell_type": "code",
      "metadata": {
        "id": "8NhRtdlbk3g3",
        "outputId": "6f6b489f-53bc-46e7-ef1f-53cf57c83ef6",
        "colab": {
          "base_uri": "https://localhost:8080/",
          "height": 35
        }
      },
      "source": [
        "Names[0].text"
      ],
      "execution_count": 49,
      "outputs": [
        {
          "output_type": "execute_result",
          "data": {
            "application/vnd.google.colaboratory.intrinsic+json": {
              "type": "string"
            },
            "text/plain": [
              "\"People's Republic of China\""
            ]
          },
          "metadata": {
            "tags": []
          },
          "execution_count": 49
        }
      ]
    },
    {
      "cell_type": "code",
      "metadata": {
        "colab": {
          "base_uri": "https://localhost:8080/"
        },
        "id": "y1EPNggjUJ0C",
        "outputId": "4359de48-a5a4-4c32-e181-61db2a1df863"
      },
      "source": [
        "team"
      ],
      "execution_count": 7,
      "outputs": [
        {
          "output_type": "execute_result",
          "data": {
            "text/plain": [
              "['Richard', 'Charlie', 'Juliette', 'Ben', 'Xenia']"
            ]
          },
          "metadata": {
            "tags": []
          },
          "execution_count": 7
        }
      ]
    },
    {
      "cell_type": "code",
      "metadata": {
        "colab": {
          "base_uri": "https://localhost:8080/",
          "height": 35
        },
        "id": "SOEg0Gj_ULpC",
        "outputId": "9d864530-2140-4cb8-c8dc-aacdb09b10d4"
      },
      "source": [
        "team[3]"
      ],
      "execution_count": 10,
      "outputs": [
        {
          "output_type": "execute_result",
          "data": {
            "application/vnd.google.colaboratory.intrinsic+json": {
              "type": "string"
            },
            "text/plain": [
              "'Ben'"
            ]
          },
          "metadata": {
            "tags": []
          },
          "execution_count": 10
        }
      ]
    },
    {
      "cell_type": "code",
      "metadata": {
        "id": "OMu1GttdTIUA",
        "outputId": "d0b98933-9203-42c7-e261-6f0e8a13423b",
        "colab": {
          "base_uri": "https://localhost:8080/",
          "height": 35
        }
      },
      "source": [
        "# /// Now discuss this:\n",
        "# soup_h1.text # /// Problem: need to specify the element. So we try...\n",
        "# soup_h1[1].text # /// Problem: counting starts at 0, not at 1. \n",
        "soup_h1[0].text # /// This now gives us what we wanted. "
      ],
      "execution_count": 15,
      "outputs": [
        {
          "output_type": "execute_result",
          "data": {
            "application/vnd.google.colaboratory.intrinsic+json": {
              "type": "string"
            },
            "text/plain": [
              "'Rolls-Royce Holding PLC'"
            ]
          },
          "metadata": {
            "tags": []
          },
          "execution_count": 15
        }
      ]
    },
    {
      "cell_type": "markdown",
      "metadata": {
        "id": "NhB3WPh4Q_ni"
      },
      "source": [
        "Step 4 - Now that sraper is working, try to find some more interesting info"
      ]
    },
    {
      "cell_type": "code",
      "metadata": {
        "id": "BwO_dmN3Pdnr"
      },
      "source": [
        "# /// Now try to grab the price - discuss these two\n",
        "soup_1 = soup.find_all(\"div\", class_=\"ln0Gqe\")\n",
        "soup_2 = soup.find_all(\"div\", class_=\"YMlKec fxKbKc\")\n",
        "soup_3 = soup.find_all(\"div\", class_=\"JwB6zf\")\n",
        "soup_4 = soup.find_all(\"div\", class_=\"COaKTb OTVmSe\")\n",
        "\n",
        "\n",
        "# /// The final bits that I want, renamed:\n",
        "name = soup.find_all(\"h1\") # // from example 1\n",
        "price = soup.find_all(\"div\", class_=\"YMlKec fxKbKc\")\n",
        "ticker = soup.find_all(\"div\", class_=\"COaKTb OTVmSe\")\n",
        "change = soup.find_all(\"div\", class_=\"JwB6zf\") # // discuss, find the right one\n",
        "\n",
        "# ////////////////////////////////////////////////////////////////\n",
        "# ////////////////////////////////////////////////////////////////"
      ],
      "execution_count": 16,
      "outputs": []
    },
    {
      "cell_type": "code",
      "metadata": {
        "colab": {
          "base_uri": "https://localhost:8080/",
          "height": 35
        },
        "id": "eiKlZ_KURdB0",
        "outputId": "bfa9f7e6-f593-47af-a3a0-c5c3addeae94"
      },
      "source": [
        "price[0].text"
      ],
      "execution_count": 17,
      "outputs": [
        {
          "output_type": "execute_result",
          "data": {
            "application/vnd.google.colaboratory.intrinsic+json": {
              "type": "string"
            },
            "text/plain": [
              "'GBX\\xa0109.50'"
            ]
          },
          "metadata": {
            "tags": []
          },
          "execution_count": 17
        }
      ]
    },
    {
      "cell_type": "markdown",
      "metadata": {
        "id": "oWjlv7KHRRui"
      },
      "source": [
        "Step 5 - use the Text method to reuce what we have to just text."
      ]
    },
    {
      "cell_type": "code",
      "metadata": {
        "id": "oo90PZVVPbwr"
      },
      "source": [
        "# ////////////////////////////////////////////////////////////////\n",
        "# /// 5.  Simplify what we have - just get the text///////////////\n",
        "\n",
        "# /// \n",
        "name = name[0].text\n",
        "price = price[0].text\n",
        "# ticker = ticker[0].text\n",
        "change = change[0].text\n",
        "\n",
        "# ////////////////////////////////////////////////////////////////\n",
        "# ////////////////////////////////////////////////////////////////"
      ],
      "execution_count": 18,
      "outputs": []
    },
    {
      "cell_type": "code",
      "metadata": {
        "id": "lQq30dCkPaDs",
        "outputId": "86f8f236-ad55-4669-ce37-f74c4d00b37e",
        "colab": {
          "base_uri": "https://localhost:8080/"
        }
      },
      "source": [
        "# ////////////////////////////////////////////////////////////////\n",
        "# /// 6. Collecting what we have into an array ///////////////////\n",
        "\n",
        "results = [name, price, ticker, change]\n",
        "results"
      ],
      "execution_count": 19,
      "outputs": [
        {
          "output_type": "execute_result",
          "data": {
            "text/plain": [
              "['Rolls-Royce Holding PLC', 'GBX\\xa0109.50', [], '-4.95%']"
            ]
          },
          "metadata": {
            "tags": []
          },
          "execution_count": 19
        }
      ]
    },
    {
      "cell_type": "code",
      "metadata": {
        "id": "YYGHynVvUmna"
      },
      "source": [
        "# /// Using our array - we can always call parts of this:\n",
        "results[0]\n",
        "results[3]\n",
        "\n",
        "# /// And - useful tip - check how long the array is\n",
        "lengthResults = len(results)"
      ],
      "execution_count": 21,
      "outputs": []
    },
    {
      "cell_type": "code",
      "metadata": {
        "colab": {
          "base_uri": "https://localhost:8080/"
        },
        "id": "_-r2b-veNTl1",
        "outputId": "73e727c2-0e87-4554-b107-c23ddac0c365"
      },
      "source": [
        "results"
      ],
      "execution_count": 20,
      "outputs": [
        {
          "output_type": "execute_result",
          "data": {
            "text/plain": [
              "['Rolls-Royce Holding PLC', 'GBX\\xa0109.50', [], '-4.95%']"
            ]
          },
          "metadata": {
            "tags": []
          },
          "execution_count": 20
        }
      ]
    }
  ]
}